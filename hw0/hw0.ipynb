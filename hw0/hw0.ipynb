{
 "cells": [
  {
   "cell_type": "markdown",
   "id": "f6e65289",
   "metadata": {},
   "source": [
    "# CS268 - HW0 - Setting Up Julia with Jupyter and Running Sample Programs\n",
    "* Student Name: Berkay Guler\n",
    "* Program: NetSys PhD"
   ]
  },
  {
   "cell_type": "markdown",
   "id": "56e7c104",
   "metadata": {},
   "source": [
    "### 1) Symbolic Differentiation with Julia\n",
    "* We can differentiate functions in their symbolic form with Julia."
   ]
  },
  {
   "cell_type": "code",
   "execution_count": 6,
   "id": "50ceb13f",
   "metadata": {},
   "outputs": [],
   "source": [
    "# SymEngine package is required for symbolic differentiation\n",
    "using SymEngine;"
   ]
  },
  {
   "cell_type": "code",
   "execution_count": 7,
   "id": "f4caf9d8",
   "metadata": {},
   "outputs": [
    {
     "data": {
      "text/plain": [
       "1/2 + 2*x + sin(x)/x^2 - cos(x)/x"
      ]
     },
     "execution_count": 7,
     "metadata": {},
     "output_type": "execute_result"
    }
   ],
   "source": [
    "# Following example is taken from K&W Algorithms for Optimization - Page 22\n",
    "@vars x;\n",
    "f = x^2 + x/2 - sin(x)/x;\n",
    "diff(f, x)"
   ]
  },
  {
   "cell_type": "markdown",
   "id": "ea2c0fa4",
   "metadata": {},
   "source": [
    "### 2) Numerical Differentiation with Complex Step Method\n",
    "* With this method taylor expansion of $f(x + ih)$ can be used to approximate $f'(x)$.\n",
    "* For the following example, a single function evaluation is used to compute both $sin(x^2)$ and $\\frac{dsin(x^2)}{dx}$ for $x = \\frac{\\pi}{2}$.\n",
    "* $Re\\{f(x + ih)\\}$ gives $f(x)$ and $Im\\{\\frac{f(x + ih)}{h}\\}$ gives $f'(x)$."
   ]
  },
  {
   "cell_type": "code",
   "execution_count": 8,
   "id": "f654208b",
   "metadata": {},
   "outputs": [],
   "source": [
    "# Following example is taken from K&W Algorithms for Optimization - Page 26\n",
    "f = x -> sin(x^2);\n",
    "v = f(π/2 + 0.001im);  # h = 0.001"
   ]
  },
  {
   "cell_type": "code",
   "execution_count": 9,
   "id": "926ed61a",
   "metadata": {},
   "outputs": [
    {
     "data": {
      "text/plain": [
       "0.6242698144866649"
      ]
     },
     "execution_count": 9,
     "metadata": {},
     "output_type": "execute_result"
    }
   ],
   "source": [
    "real(v)"
   ]
  },
  {
   "cell_type": "code",
   "execution_count": 10,
   "id": "a1e0dc24",
   "metadata": {},
   "outputs": [
    {
     "data": {
      "text/plain": [
       "-2.4542516170381785"
      ]
     },
     "execution_count": 10,
     "metadata": {},
     "output_type": "execute_result"
    }
   ],
   "source": [
    "imag(v)/0.001"
   ]
  }
 ],
 "metadata": {
  "kernelspec": {
   "display_name": "Julia 1.9.3",
   "language": "julia",
   "name": "julia-1.9"
  },
  "language_info": {
   "file_extension": ".jl",
   "mimetype": "application/julia",
   "name": "julia",
   "version": "1.9.3"
  }
 },
 "nbformat": 4,
 "nbformat_minor": 5
}
